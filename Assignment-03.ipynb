{
 "cells": [
  {
   "cell_type": "markdown",
   "id": "a1a7fdc0",
   "metadata": {},
   "source": [
    "# 1. Why are functions advantageous to have in your programs?"
   ]
  },
  {
   "cell_type": "markdown",
   "id": "db0cb4b3",
   "metadata": {},
   "source": [
    "Functions are used to increase the reuasability of a code .once we defined a function we can call it whenever it is required .function also helps in time saving."
   ]
  },
  {
   "cell_type": "markdown",
   "id": "5342bada",
   "metadata": {},
   "source": [
    "# 2. When does the code in a function run: when it's specified or when it's called?"
   ]
  },
  {
   "cell_type": "markdown",
   "id": "42444c32",
   "metadata": {},
   "source": [
    "function are called whenver required it  not when specified."
   ]
  },
  {
   "cell_type": "markdown",
   "id": "be2ed45a",
   "metadata": {},
   "source": [
    "# 3. What statement creates a function?"
   ]
  },
  {
   "cell_type": "code",
   "execution_count": 2,
   "id": "61f286de",
   "metadata": {},
   "outputs": [],
   "source": [
    "#functions can be created as \n",
    "\n",
    "def sum(a,b):# here def is mandatory to define a function after def the name of a function is written.\n",
    "    return a+b"
   ]
  },
  {
   "cell_type": "code",
   "execution_count": 3,
   "id": "574f61a0",
   "metadata": {},
   "outputs": [
    {
     "data": {
      "text/plain": [
       "5"
      ]
     },
     "execution_count": 3,
     "metadata": {},
     "output_type": "execute_result"
    }
   ],
   "source": [
    "sum(2,3)"
   ]
  },
  {
   "cell_type": "markdown",
   "id": "57774477",
   "metadata": {},
   "source": [
    "# 4. What is the difference between a function and a function call?"
   ]
  },
  {
   "cell_type": "markdown",
   "id": "3c57f9ff",
   "metadata": {},
   "source": [
    "1)A function :is a reusable block of code that performs a specific task or set of tasks when invoked or called.\n",
    "Functions are defined with a name, a set of parameters (if needed), and a body of code that contains the instructions to be executed.\n",
    "\n",
    "2) Function Call:\n",
    "\n",
    "A function call is the act of invoking or executing a function to perform its specified tasks.\n",
    "When you call a function, you provide any required arguments or parameters, and the function runs with those inputs.\n",
    "\n"
   ]
  },
  {
   "cell_type": "markdown",
   "id": "642c795c",
   "metadata": {},
   "source": [
    "# 5. How many global scopes are there in a Python program? How many local scopes?"
   ]
  },
  {
   "cell_type": "markdown",
   "id": "086e2948",
   "metadata": {},
   "source": [
    "1) Global Scope:\n",
    "There is only one global scope in a Python program.\n",
    "The global scope refers to the outermost level of the program, where variables and objects are defined outside of any function or class.\n",
    "\n",
    "2)Local Scopes:\n",
    "Local scopes are created within functions or methods.\n",
    "Each function or method definition creates its own local scope.\n"
   ]
  },
  {
   "cell_type": "markdown",
   "id": "fd750d32",
   "metadata": {},
   "source": [
    "# 6. What happens to variables in a local scope when the function call returns?"
   ]
  },
  {
   "cell_type": "markdown",
   "id": "e9c1462f",
   "metadata": {},
   "source": [
    "Variables Are Destroyed: All variables defined within the local scope of the function are destroyed or deallocated. This means they are no longer accessible or available for use in the program.\n",
    "\n",
    "Memory Is Freed: The memory that was allocated to store the local variables is freed up by the Python interpreter, making it available for other purposes.\n",
    "\n",
    "Return Value (if any): If the function has a return statement, the value specified in the return statement is sent back to the caller. This value can be assigned to a variable or used in an expression in the calling code."
   ]
  },
  {
   "cell_type": "markdown",
   "id": "3d7eac3b",
   "metadata": {},
   "source": [
    "# 7. What is the concept of a return value? Is it possible to have a return value in an expression?"
   ]
  },
  {
   "cell_type": "markdown",
   "id": "6cc45699",
   "metadata": {},
   "source": [
    "Purpose of Return Values: Return values serve several purposes, including:\n",
    "\n",
    "Communicating the result of a function's computation to the caller.\n",
    "Allowing the caller to use the result for further processing.\n",
    "\n",
    "Yes, return values can be used in expressions. When a function call is used in an expression, the return value of the function becomes part of that expression's evaluation. This allows you to perform further computations or operations with the returned value."
   ]
  },
  {
   "cell_type": "markdown",
   "id": "d918154a",
   "metadata": {},
   "source": [
    "# 8. If a function does not have a return statement, what is the return value of a call to that function?"
   ]
  },
  {
   "cell_type": "code",
   "execution_count": null,
   "id": "c16f734e",
   "metadata": {},
   "outputs": [],
   "source": []
  },
  {
   "cell_type": "markdown",
   "id": "9b6187a9",
   "metadata": {},
   "source": [
    "# 9. How do you make a function variable refer to the global variable?"
   ]
  },
  {
   "cell_type": "markdown",
   "id": "f8e1662d",
   "metadata": {},
   "source": [
    "In Python, you can make a function variable refer to a global variable by using the global keyword. This allows you to modify the global variable from within the function. Here's how you can do it:\n",
    "\n",
    "Declare the global variable outside of any function.\n",
    "\n",
    "Inside the function, when you want to access or modify the global variable, use the global keyword followed by the variable's name."
   ]
  },
  {
   "cell_type": "markdown",
   "id": "bd039861",
   "metadata": {},
   "source": [
    "# 10. What is the data type of None?"
   ]
  },
  {
   "cell_type": "markdown",
   "id": "aa84b4c3",
   "metadata": {},
   "source": [
    "none data type represent absence of values .none itself is a none data type. print always return none data type ."
   ]
  },
  {
   "cell_type": "markdown",
   "id": "47c09bc1",
   "metadata": {},
   "source": [
    "# 11. What does the sentence import areallyourpetsnamederic do?"
   ]
  },
  {
   "cell_type": "markdown",
   "id": "5e2cc543",
   "metadata": {},
   "source": [
    "There is no any module as areallyourpetsnamederic inside python . It will give an error while importing."
   ]
  },
  {
   "cell_type": "markdown",
   "id": "d851dce5",
   "metadata": {},
   "source": [
    "# 12. If you had a bacon() feature in a spam module, what would you call it after importing spam?"
   ]
  },
  {
   "cell_type": "markdown",
   "id": "6f95f382",
   "metadata": {},
   "source": [
    "after importing spam module it can be called as \n",
    "spam.bacon()# after dot press shift +tab then it show all function from module we have created ."
   ]
  },
  {
   "cell_type": "markdown",
   "id": "48c6d6c2",
   "metadata": {},
   "source": [
    "# 13. What can you do to save a programme from crashing if it encounters an error?"
   ]
  },
  {
   "cell_type": "markdown",
   "id": "852f1f8d",
   "metadata": {},
   "source": [
    "\n",
    "To prevent a program from crashing when it encounters an error, you can use error handling techniques in your code. Python provides a mechanism for handling errors gracefully using try and except blocks. Here's how you can use them:\n"
   ]
  },
  {
   "cell_type": "code",
   "execution_count": 9,
   "id": "c6969569",
   "metadata": {},
   "outputs": [
    {
     "name": "stdout",
     "output_type": "stream",
     "text": [
      "enter value of a5\n",
      "enter value of b0\n",
      "you are dividing by zero\n"
     ]
    }
   ],
   "source": [
    "a = int(input(\"enter value of a\"))\n",
    "b = int(input(\"enter value of b\"))\n",
    "try:\n",
    "    c=a/b\n",
    "except ZeroDivisionError:\n",
    "    print(\"you are dividing by zero\")\n",
    "        "
   ]
  },
  {
   "cell_type": "markdown",
   "id": "e07ec19b",
   "metadata": {},
   "source": [
    "# 14. What is the purpose of the try clause? What is the purpose of the except clause?"
   ]
  },
  {
   "cell_type": "markdown",
   "id": "af87d158",
   "metadata": {},
   "source": [
    "try and except are used for error handling in a code.\n",
    "try will execute program based on given condition if condition is true it will go to else and print statement inside else.\n",
    "\n",
    "except used to handle error in code if there is any error in program it will be handleded using except keyword."
   ]
  }
 ],
 "metadata": {
  "kernelspec": {
   "display_name": "Python 3 (ipykernel)",
   "language": "python",
   "name": "python3"
  },
  "language_info": {
   "codemirror_mode": {
    "name": "ipython",
    "version": 3
   },
   "file_extension": ".py",
   "mimetype": "text/x-python",
   "name": "python",
   "nbconvert_exporter": "python",
   "pygments_lexer": "ipython3",
   "version": "3.10.9"
  }
 },
 "nbformat": 4,
 "nbformat_minor": 5
}
