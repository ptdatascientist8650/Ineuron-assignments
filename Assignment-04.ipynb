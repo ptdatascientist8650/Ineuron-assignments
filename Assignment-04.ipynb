{
 "cells": [
  {
   "cell_type": "markdown",
   "id": "5dd2d5db",
   "metadata": {},
   "source": [
    "# 1. What exactly is []?"
   ]
  },
  {
   "cell_type": "markdown",
   "id": "a02739b4",
   "metadata": {},
   "source": [
    "The symbol \"[]\" represents an empty list in many programming languages, including Python. A list is a data structure that can hold a collection of elements, such as numbers, strings, or other objects. An empty list, denoted by \"[]\", is a list that contains no elements"
   ]
  },
  {
   "cell_type": "markdown",
   "id": "dee54f1b",
   "metadata": {},
   "source": [
    "# 2. In a list of values stored in a variable called spam, how would you assign the value 'hello' as the third value? (Assume [2, 4, 6, 8, 10] are in spam."
   ]
  },
  {
   "cell_type": "markdown",
   "id": "c3dafed0",
   "metadata": {},
   "source": [
    "It can be assigned by using insert function as below where 2 is a index and value at 2 index = \"hello\""
   ]
  },
  {
   "cell_type": "code",
   "execution_count": 1,
   "id": "7b44f2a1",
   "metadata": {},
   "outputs": [],
   "source": [
    "spam = [2,4,6,8,10]"
   ]
  },
  {
   "cell_type": "code",
   "execution_count": 2,
   "id": "fc48f330",
   "metadata": {},
   "outputs": [],
   "source": [
    "spam.insert(2,\"hello\")"
   ]
  },
  {
   "cell_type": "code",
   "execution_count": 3,
   "id": "3bee07e4",
   "metadata": {},
   "outputs": [
    {
     "data": {
      "text/plain": [
       "[2, 4, 'hello', 6, 8, 10]"
      ]
     },
     "execution_count": 3,
     "metadata": {},
     "output_type": "execute_result"
    }
   ],
   "source": [
    "spam"
   ]
  },
  {
   "cell_type": "markdown",
   "id": "2e0f6749",
   "metadata": {},
   "source": [
    "# Let's pretend the spam includes the list ['a', 'b', 'c', 'd'] for the next three queries.\n",
    "3. What is the value of spam[int(int('3' * 2) / 11)]?\n",
    "4. What is the value of spam[-1]?\n",
    "5. What is the value of spam[:2]?"
   ]
  },
  {
   "cell_type": "code",
   "execution_count": 10,
   "id": "21a199f9",
   "metadata": {},
   "outputs": [],
   "source": [
    "spam = [\"a\" , \"b\" , \"c\",\"d\"]\n"
   ]
  },
  {
   "cell_type": "code",
   "execution_count": 14,
   "id": "ff435e52",
   "metadata": {},
   "outputs": [
    {
     "data": {
      "text/plain": [
       "'d'"
      ]
     },
     "execution_count": 14,
     "metadata": {},
     "output_type": "execute_result"
    }
   ],
   "source": [
    "spam[int(int('3'*2)/11)]"
   ]
  },
  {
   "cell_type": "code",
   "execution_count": 12,
   "id": "8efd650c",
   "metadata": {},
   "outputs": [
    {
     "data": {
      "text/plain": [
       "'d'"
      ]
     },
     "execution_count": 12,
     "metadata": {},
     "output_type": "execute_result"
    }
   ],
   "source": [
    "spam[-1]"
   ]
  },
  {
   "cell_type": "code",
   "execution_count": 13,
   "id": "dbfc0574",
   "metadata": {},
   "outputs": [
    {
     "data": {
      "text/plain": [
       "['a', 'b']"
      ]
     },
     "execution_count": 13,
     "metadata": {},
     "output_type": "execute_result"
    }
   ],
   "source": [
    "spam[:2]"
   ]
  },
  {
   "cell_type": "markdown",
   "id": "da5648b3",
   "metadata": {},
   "source": [
    "# Let's pretend bacon has the list [3.14, 'cat,' 11, 'cat,' True] for the next three questions.\n",
    "6. What is the value of bacon.index('cat')?\n",
    "7. How does bacon.append(99) change the look of the list value in bacon?\n",
    "8. How does bacon.remove('cat') change the look of the list in bacon?"
   ]
  },
  {
   "cell_type": "code",
   "execution_count": 15,
   "id": "abef2222",
   "metadata": {},
   "outputs": [],
   "source": [
    "bacon = [3.24 , 'cat' , '11' , 'cat',True]"
   ]
  },
  {
   "cell_type": "code",
   "execution_count": 16,
   "id": "b3eeb661",
   "metadata": {},
   "outputs": [
    {
     "data": {
      "text/plain": [
       "1"
      ]
     },
     "execution_count": 16,
     "metadata": {},
     "output_type": "execute_result"
    }
   ],
   "source": [
    "bacon.index('cat') # cat is present at index 1 "
   ]
  },
  {
   "cell_type": "code",
   "execution_count": 17,
   "id": "73c934d4",
   "metadata": {},
   "outputs": [],
   "source": [
    "bacon.append(99) # append the object in last of a list ."
   ]
  },
  {
   "cell_type": "code",
   "execution_count": 18,
   "id": "6c818c33",
   "metadata": {},
   "outputs": [
    {
     "data": {
      "text/plain": [
       "[3.24, 'cat', '11', 'cat', True, 99]"
      ]
     },
     "execution_count": 18,
     "metadata": {},
     "output_type": "execute_result"
    }
   ],
   "source": [
    "bacon"
   ]
  },
  {
   "cell_type": "code",
   "execution_count": 19,
   "id": "f76efb41",
   "metadata": {},
   "outputs": [],
   "source": [
    "bacon.remove(\"cat\") # it will remove first cat from the data "
   ]
  },
  {
   "cell_type": "code",
   "execution_count": 20,
   "id": "b37e5d6f",
   "metadata": {},
   "outputs": [
    {
     "data": {
      "text/plain": [
       "[3.24, '11', 'cat', True, 99]"
      ]
     },
     "execution_count": 20,
     "metadata": {},
     "output_type": "execute_result"
    }
   ],
   "source": [
    "bacon"
   ]
  },
  {
   "cell_type": "markdown",
   "id": "b2c404b5",
   "metadata": {},
   "source": [
    "# 9. What are the list concatenation and list replication operators?"
   ]
  },
  {
   "cell_type": "markdown",
   "id": "9ac39edb",
   "metadata": {},
   "source": [
    "List Concatenation (+): The + operator is used to concatenate (combine) two or more lists into a single list. \n",
    "\n",
    "List Replication (*): The * operator is used to replicate a list by repeating its elements a specified number of times. \n",
    "\n",
    "examples are given below "
   ]
  },
  {
   "cell_type": "code",
   "execution_count": 21,
   "id": "c5d7501f",
   "metadata": {},
   "outputs": [
    {
     "name": "stdout",
     "output_type": "stream",
     "text": [
      "[1, 2, 3, 2, 3, 4]\n"
     ]
    }
   ],
   "source": [
    "#list concatination(+)\n",
    "list1 = [1,2,3]\n",
    "list2 = [2,3,4]\n",
    "concated_list = list1 + list2\n",
    "print(concated_list)"
   ]
  },
  {
   "cell_type": "code",
   "execution_count": 22,
   "id": "eec0f5a5",
   "metadata": {},
   "outputs": [
    {
     "name": "stdout",
     "output_type": "stream",
     "text": [
      "[1, 2, 3, 1, 2, 3]\n"
     ]
    }
   ],
   "source": [
    "#list replication (*)\n",
    "list = [1,2,3]\n",
    "replicated_list=list*2\n",
    "print(replicated_list)"
   ]
  },
  {
   "cell_type": "markdown",
   "id": "727f8bca",
   "metadata": {},
   "source": [
    "# 10. What is difference between the list methods append() and insert()?"
   ]
  },
  {
   "cell_type": "markdown",
   "id": "e0d5d01c",
   "metadata": {},
   "source": [
    "append() = append is used to add an object in the last of a list .\n",
    "insert() = insert is used to append object at a specified position given by us .\n",
    "Examples are below "
   ]
  },
  {
   "cell_type": "code",
   "execution_count": 27,
   "id": "8d42ba59",
   "metadata": {},
   "outputs": [
    {
     "name": "stdout",
     "output_type": "stream",
     "text": [
      "[1, 2, 3, 4, 9]\n"
     ]
    }
   ],
   "source": [
    "l = [1,2,3,4]\n",
    "l.append(9)\n",
    "print(l)\n"
   ]
  },
  {
   "cell_type": "code",
   "execution_count": 28,
   "id": "e62a52b7",
   "metadata": {},
   "outputs": [],
   "source": [
    "l.insert(2,4)"
   ]
  },
  {
   "cell_type": "code",
   "execution_count": 29,
   "id": "c2c038e6",
   "metadata": {},
   "outputs": [
    {
     "data": {
      "text/plain": [
       "[1, 2, 4, 3, 4, 9]"
      ]
     },
     "execution_count": 29,
     "metadata": {},
     "output_type": "execute_result"
    }
   ],
   "source": [
    "l"
   ]
  },
  {
   "cell_type": "markdown",
   "id": "75dc3c21",
   "metadata": {},
   "source": [
    "# 11. What are the two methods for removing items from a list?"
   ]
  },
  {
   "cell_type": "markdown",
   "id": "536b860b",
   "metadata": {},
   "source": [
    "\n",
    "In Python, there are two common methods for removing items from a list:\n",
    "\n",
    "list.remove(item): This method is used to remove the first occurrence of a specific item from the list.\n",
    "    \n",
    "list.pop(index): This method is used to remove an item from the list at a specified index.     "
   ]
  },
  {
   "cell_type": "markdown",
   "id": "cbb5ebc5",
   "metadata": {},
   "source": [
    "# 12. Describe how list values and string values are identical."
   ]
  },
  {
   "cell_type": "markdown",
   "id": "cf79f739",
   "metadata": {},
   "source": [
    "List and String are identical based on below points=\n",
    "1)INDEXING= Both string and list stores data in the form of indexes .\n",
    "2) SLICING= slicing operation can be performed in both\n",
    "3) ITERATION = we can iterate both by using for loop."
   ]
  },
  {
   "cell_type": "markdown",
   "id": "5d118c93",
   "metadata": {},
   "source": [
    "# 13. What's the difference between tuples and lists?"
   ]
  },
  {
   "cell_type": "markdown",
   "id": "2ff03644",
   "metadata": {},
   "source": [
    "BASIC DIFFERENCE = tuples are stores using () while list stores data in the form of [].\n",
    "OTHER = List are mutable entity while Tuples are immutable .Mutability means we can perform some sort of an task to change and add data in existing data . While in case of immutability(tuple) once data is stored in form of tuple it can not be changed or mdified ."
   ]
  },
  {
   "cell_type": "markdown",
   "id": "88b9a2a7",
   "metadata": {},
   "source": [
    "# 14. How do you type a tuple value that only contains the integer 42?"
   ]
  },
  {
   "cell_type": "code",
   "execution_count": 31,
   "id": "48ae2d47",
   "metadata": {},
   "outputs": [],
   "source": [
    "tuple = (42)"
   ]
  },
  {
   "cell_type": "markdown",
   "id": "4abc77ad",
   "metadata": {},
   "source": [
    "# 15. How do you get a list value's tuple form? How do you get a tuple value's list form? "
   ]
  },
  {
   "cell_type": "markdown",
   "id": "dc32168d",
   "metadata": {},
   "source": [
    "#list to tuple \n",
    "l = [1,2,3]\n",
    "my_tuple = tuple(l)\n",
    "\n",
    "#tuple to list \n",
    "t = (1,2,3,4)\n",
    "my_list = list(t)"
   ]
  },
  {
   "cell_type": "markdown",
   "id": "2c6f645e",
   "metadata": {},
   "source": [
    "# 16. Variables that \"contain\" list values are not necessarily lists themselves. Instead, what do they contain?\n"
   ]
  },
  {
   "cell_type": "markdown",
   "id": "6245cf42",
   "metadata": {},
   "source": [
    "Reference: When you assign a list to a variable, we're actually storing a reference to the memory location where the list is stored. \n",
    "\n",
    "\n",
    "Mutability: Lists are mutable objects, meaning we can change their contents (e.g., add, remove, or modify elements). "
   ]
  },
  {
   "cell_type": "markdown",
   "id": "548c2840",
   "metadata": {},
   "source": [
    "# 17. How do you distinguish between copy.copy() and copy.deepcopy()?"
   ]
  },
  {
   "cell_type": "markdown",
   "id": "0275aa5f",
   "metadata": {},
   "source": [
    "1) copy.copy() (Shallow Copy):\n",
    "\n",
    "copy.copy() creates a shallow copy of an object.\n",
    "Shallow copy means that it duplicates the top-level object and references the same objects within that top-level object.\n",
    "\n",
    "\n",
    "2) copy.deepcopy() (Deep Copy):\n",
    "\n",
    "copy.deepcopy() creates a deep copy of an object.\n",
    "Deep copy means that it duplicates both the top-level object and all the objects within it, recursively, to create completely independent copies."
   ]
  }
 ],
 "metadata": {
  "kernelspec": {
   "display_name": "Python 3 (ipykernel)",
   "language": "python",
   "name": "python3"
  },
  "language_info": {
   "codemirror_mode": {
    "name": "ipython",
    "version": 3
   },
   "file_extension": ".py",
   "mimetype": "text/x-python",
   "name": "python",
   "nbconvert_exporter": "python",
   "pygments_lexer": "ipython3",
   "version": "3.10.9"
  }
 },
 "nbformat": 4,
 "nbformat_minor": 5
}
