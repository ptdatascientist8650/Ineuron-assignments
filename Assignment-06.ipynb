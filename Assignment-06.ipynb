{
 "cells": [
  {
   "cell_type": "markdown",
   "id": "717d0bff",
   "metadata": {},
   "source": [
    "# 1. What are escape characters, and how do you use them?"
   ]
  },
  {
   "cell_type": "markdown",
   "id": "d17698a1",
   "metadata": {},
   "source": [
    "Escape characters are special characters in programming and markup languages that are used to represent characters that would otherwise be difficult or impossible to include directly in a string or text. \n",
    "\n",
    "\\n: Represents a newline character, used for creating line breaks in text.\n",
    "\\t: Represents a tab character, used for creating tabbed or indented content.\n",
    "\\r: Represents a carriage return, often used in combination with newline characters for formatting text.\n"
   ]
  },
  {
   "cell_type": "markdown",
   "id": "ccad495f",
   "metadata": {},
   "source": [
    "# 2. What do the escape characters n and t stand for?"
   ]
  },
  {
   "cell_type": "markdown",
   "id": "46ace179",
   "metadata": {},
   "source": [
    "\\n: Represents a newline character, used for creating line breaks in text.\n",
    "\\t: Represents a tab character, used for creating tabbed or indented content."
   ]
  },
  {
   "cell_type": "markdown",
   "id": "82aafc92",
   "metadata": {},
   "source": [
    "# 3. What is the way to include backslash characters in a string?"
   ]
  },
  {
   "cell_type": "markdown",
   "id": "0d054c55",
   "metadata": {},
   "source": [
    "\\r: Represents a carriage return, often used in combination with newline characters for formatting text."
   ]
  },
  {
   "cell_type": "markdown",
   "id": "957119b9",
   "metadata": {},
   "source": [
    "# 4. The string \"Howl's Moving Castle\" is a correct value. Why isn't the single quote character in the word Howl's not escaped a problem?"
   ]
  },
  {
   "cell_type": "markdown",
   "id": "1d8e19b0",
   "metadata": {},
   "source": [
    "because we have use double quote outside string. if we use double character there python will not able to understand which is my string."
   ]
  },
  {
   "cell_type": "markdown",
   "id": "04330064",
   "metadata": {},
   "source": [
    "# 5. How do you write a string of newlines if you don't want to use the n character?"
   ]
  },
  {
   "cell_type": "code",
   "execution_count": null,
   "id": "89e050e8",
   "metadata": {},
   "outputs": [],
   "source": []
  },
  {
   "cell_type": "markdown",
   "id": "1b1824ba",
   "metadata": {},
   "source": [
    "# 6. What are the values of the given expressions?\n",
    "'Hello, world!'[1]\n",
    "'Hello, world!'[0:5]\n",
    "'Hello, world!'[:5]\n",
    "'Hello, world!'[3:]"
   ]
  },
  {
   "cell_type": "code",
   "execution_count": 1,
   "id": "f358f311",
   "metadata": {},
   "outputs": [
    {
     "data": {
      "text/plain": [
       "'e'"
      ]
     },
     "execution_count": 1,
     "metadata": {},
     "output_type": "execute_result"
    }
   ],
   "source": [
    "'Hello, world!'[1] # value of index 1"
   ]
  },
  {
   "cell_type": "code",
   "execution_count": 2,
   "id": "a79aa1f7",
   "metadata": {},
   "outputs": [
    {
     "data": {
      "text/plain": [
       "'Hello'"
      ]
     },
     "execution_count": 2,
     "metadata": {},
     "output_type": "execute_result"
    }
   ],
   "source": [
    "'Hello, world!'[0:5]# start from 0 till 5 excluding 5"
   ]
  },
  {
   "cell_type": "code",
   "execution_count": 3,
   "id": "69438ef8",
   "metadata": {},
   "outputs": [
    {
     "data": {
      "text/plain": [
       "'Hello'"
      ]
     },
     "execution_count": 3,
     "metadata": {},
     "output_type": "execute_result"
    }
   ],
   "source": [
    "'Hello, world!'[:5]#by default it will start from 0 index"
   ]
  },
  {
   "cell_type": "code",
   "execution_count": 4,
   "id": "8f0df3c1",
   "metadata": {},
   "outputs": [
    {
     "data": {
      "text/plain": [
       "'lo, world!'"
      ]
     },
     "execution_count": 4,
     "metadata": {},
     "output_type": "execute_result"
    }
   ],
   "source": [
    " 'Hello, world!'[3:]#excluding upto 3 character it will return next all characters."
   ]
  },
  {
   "cell_type": "markdown",
   "id": "5e8e020a",
   "metadata": {},
   "source": [
    "# 7. What are the values of the following expressions?\n",
    "'Hello'.upper()\n",
    "'Hello'.upper().isupper()\n",
    "'Hello'.upper().lower()"
   ]
  },
  {
   "cell_type": "code",
   "execution_count": 5,
   "id": "c17c742c",
   "metadata": {},
   "outputs": [
    {
     "data": {
      "text/plain": [
       "'HELLO'"
      ]
     },
     "execution_count": 5,
     "metadata": {},
     "output_type": "execute_result"
    }
   ],
   "source": [
    "'Hello'.upper()"
   ]
  },
  {
   "cell_type": "code",
   "execution_count": 6,
   "id": "b076ee2b",
   "metadata": {},
   "outputs": [
    {
     "data": {
      "text/plain": [
       "True"
      ]
     },
     "execution_count": 6,
     "metadata": {},
     "output_type": "execute_result"
    }
   ],
   "source": [
    "'Hello'.upper().isupper()"
   ]
  },
  {
   "cell_type": "code",
   "execution_count": 7,
   "id": "daa4339d",
   "metadata": {},
   "outputs": [
    {
     "data": {
      "text/plain": [
       "'hello'"
      ]
     },
     "execution_count": 7,
     "metadata": {},
     "output_type": "execute_result"
    }
   ],
   "source": [
    "'Hello'.upper().lower()"
   ]
  },
  {
   "cell_type": "markdown",
   "id": "eae37b1e",
   "metadata": {},
   "source": [
    "# 8. What are the values of the following expressions?\n",
    "'Remember, remember, the fifth of July.'.split()\n",
    "'-'.join('There can only one.'.split())"
   ]
  },
  {
   "cell_type": "code",
   "execution_count": 9,
   "id": "74591c50",
   "metadata": {},
   "outputs": [
    {
     "data": {
      "text/plain": [
       "['Remember,', 'remember,', 'the', 'fifth', 'of', 'July.']"
      ]
     },
     "execution_count": 9,
     "metadata": {},
     "output_type": "execute_result"
    }
   ],
   "source": [
    "#8. What are the values of the following expressions?\n",
    "'Remember, remember, the fifth of July.'.split()\n",
    "\n"
   ]
  },
  {
   "cell_type": "code",
   "execution_count": 10,
   "id": "ed1a7c65",
   "metadata": {},
   "outputs": [
    {
     "data": {
      "text/plain": [
       "'There-can-only-one.'"
      ]
     },
     "execution_count": 10,
     "metadata": {},
     "output_type": "execute_result"
    }
   ],
   "source": [
    "'-'.join('There can only one.'.split())"
   ]
  },
  {
   "cell_type": "markdown",
   "id": "a88784b4",
   "metadata": {},
   "source": [
    "# 9. What are the methods for right-justifying, left-justifying, and centering a string?"
   ]
  },
  {
   "cell_type": "markdown",
   "id": "d8577ab0",
   "metadata": {},
   "source": [
    "1)Left-Justify a String:\n",
    "\n",
    "By default, text in most programming languages is left-justified. So, if we're just printing or displaying a string, we don't need to do anything special.\n",
    "\n",
    "2)Right-Justify a String:\n",
    "\n",
    "we can right-justify a string by adding spaces (or any other character you prefer) to the left of the string until it reaches the desired width.\n",
    "\n",
    "3)Center a String:\n",
    "\n",
    "To center a string, you can add spaces (or any other character) to both the left and right sides of the string until it's centered within a specified width."
   ]
  },
  {
   "cell_type": "markdown",
   "id": "9f8fcc3c",
   "metadata": {},
   "source": [
    "# 10. What is the best way to remove whitespace characters from the start or end?"
   ]
  },
  {
   "cell_type": "markdown",
   "id": "f20b7e7a",
   "metadata": {},
   "source": [
    "1)strip()=we can use strip() this function to remove whitespace character from start or end .     \n",
    "2)lstrip()=used to remove space from left\n",
    "3)rstrip()=used to remove space from right"
   ]
  }
 ],
 "metadata": {
  "kernelspec": {
   "display_name": "Python 3 (ipykernel)",
   "language": "python",
   "name": "python3"
  },
  "language_info": {
   "codemirror_mode": {
    "name": "ipython",
    "version": 3
   },
   "file_extension": ".py",
   "mimetype": "text/x-python",
   "name": "python",
   "nbconvert_exporter": "python",
   "pygments_lexer": "ipython3",
   "version": "3.10.9"
  }
 },
 "nbformat": 4,
 "nbformat_minor": 5
}
