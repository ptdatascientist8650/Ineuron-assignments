{
 "cells": [
  {
   "cell_type": "markdown",
   "id": "cbd61d25",
   "metadata": {},
   "source": [
    "# 1. What does an empty dictionary's code look like?"
   ]
  },
  {
   "cell_type": "markdown",
   "id": "0c8cb6e0",
   "metadata": {},
   "source": [
    "The empty dictionary code looks lie = {}"
   ]
  },
  {
   "cell_type": "markdown",
   "id": "f34c2f63",
   "metadata": {},
   "source": [
    "# 2. What is the value of a dictionary value with the key 'foo' and the value 42?"
   ]
  },
  {
   "cell_type": "markdown",
   "id": "2c3dfab0",
   "metadata": {},
   "source": [
    "dict = {\"foo\" :42} # dict always stores data in the form of key value pair .\n",
    "\n",
    "The value of dictionary value = 42 where 'foo IS A KEY '\n"
   ]
  },
  {
   "cell_type": "markdown",
   "id": "612d911d",
   "metadata": {},
   "source": [
    "# 3. What is the most significant distinction between a dictionary and a list?"
   ]
  },
  {
   "cell_type": "markdown",
   "id": "02d5f7c2",
   "metadata": {},
   "source": [
    "1) DATA STORAGE = List stores data in the form of sequence or indexes while Dict stores data in key value pair .so l=dict is a unordered collection of data ."
   ]
  },
  {
   "cell_type": "markdown",
   "id": "d217ae0f",
   "metadata": {},
   "source": [
    "# 4. What happens if you try to access spam['foo'] if spam is {'bar': 100}?"
   ]
  },
  {
   "cell_type": "markdown",
   "id": "87cbf124",
   "metadata": {},
   "source": [
    "spam = {\"bar\":100}\n",
    "spam[\"Foo\"]# it will through an error because the is not foo as a key available in a dictionary spam ."
   ]
  },
  {
   "cell_type": "markdown",
   "id": "60844a0f",
   "metadata": {},
   "source": [
    "# 5. If a dictionary is stored in spam, what is the difference between the expressions 'cat' in spam and 'cat' in spam.keys()?"
   ]
  },
  {
   "cell_type": "markdown",
   "id": "e7e65640",
   "metadata": {},
   "source": [
    "For \"cat\" in spam it will check weather cat is present inside dict spam or not .based on availability it will return output.\n",
    "In case of \"cat\" in spam.keys() it will check cat in spam is available as a key or not  as example below."
   ]
  },
  {
   "cell_type": "code",
   "execution_count": 7,
   "id": "2424fb27",
   "metadata": {},
   "outputs": [],
   "source": [
    "spam = {1:\"saurabh\" , 2:\"kumar\"}"
   ]
  },
  {
   "cell_type": "code",
   "execution_count": 9,
   "id": "18cb8364",
   "metadata": {},
   "outputs": [
    {
     "data": {
      "text/plain": [
       "False"
      ]
     },
     "execution_count": 9,
     "metadata": {},
     "output_type": "execute_result"
    }
   ],
   "source": [
    "\"cat\" in spam"
   ]
  },
  {
   "cell_type": "code",
   "execution_count": 10,
   "id": "8c080f86",
   "metadata": {},
   "outputs": [
    {
     "data": {
      "text/plain": [
       "False"
      ]
     },
     "execution_count": 10,
     "metadata": {},
     "output_type": "execute_result"
    }
   ],
   "source": [
    "'cat' in spam.keys()#here cat is not present as a key in above dict."
   ]
  },
  {
   "cell_type": "markdown",
   "id": "0c63717c",
   "metadata": {},
   "source": [
    "# 7. What is a shortcut for the following code?\n",
    "if 'color' not in spam:\n",
    "spam['color'] = 'black' "
   ]
  },
  {
   "cell_type": "code",
   "execution_count": 13,
   "id": "d513cdfd",
   "metadata": {},
   "outputs": [
    {
     "name": "stdout",
     "output_type": "stream",
     "text": [
      "black\n"
     ]
    }
   ],
   "source": [
    "spam = {1,2,3}\n",
    "if spam!= \"color\":\n",
    "    print(\"black\")"
   ]
  },
  {
   "cell_type": "markdown",
   "id": "c6832d86",
   "metadata": {},
   "source": [
    "# 8. How do you \"pretty print\" dictionary values using which module and function?"
   ]
  },
  {
   "cell_type": "markdown",
   "id": "27ea5bff",
   "metadata": {},
   "source": [
    "o\"pretty print\" dictionary values in Python, we can use the json module's json.dumps() function with the indent parameter.\n",
    "\n",
    "1) Creating a module inside which defining function .\n",
    "2) After that importing that module inside same directory with different juputer notebook aND after that we can call that function to print = \"pretty print\" ."
   ]
  }
 ],
 "metadata": {
  "kernelspec": {
   "display_name": "Python 3 (ipykernel)",
   "language": "python",
   "name": "python3"
  },
  "language_info": {
   "codemirror_mode": {
    "name": "ipython",
    "version": 3
   },
   "file_extension": ".py",
   "mimetype": "text/x-python",
   "name": "python",
   "nbconvert_exporter": "python",
   "pygments_lexer": "ipython3",
   "version": "3.10.9"
  }
 },
 "nbformat": 4,
 "nbformat_minor": 5
}
