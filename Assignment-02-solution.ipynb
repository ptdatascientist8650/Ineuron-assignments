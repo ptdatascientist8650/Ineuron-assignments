{
 "cells": [
  {
   "cell_type": "markdown",
   "id": "37f830ef",
   "metadata": {},
   "source": [
    "# 1.What are the two values of the Boolean data type? How do you write them?"
   ]
  },
  {
   "cell_type": "markdown",
   "id": "963cff77",
   "metadata": {},
   "source": [
    "There are two values of bollean datatype \n",
    "1) True and False \n",
    "where True= 1 and \n",
    "False = 0."
   ]
  },
  {
   "cell_type": "markdown",
   "id": "4b6cb08c",
   "metadata": {},
   "source": [
    "# 2. What are the three different types of Boolean operators?"
   ]
  },
  {
   "cell_type": "markdown",
   "id": "219f3492",
   "metadata": {},
   "source": [
    "There are 3 types of different boolean operators \n",
    "\n",
    "1) AND operator\n",
    "2) OR\n",
    "3) NOT"
   ]
  },
  {
   "cell_type": "markdown",
   "id": "7e8abfdd",
   "metadata": {},
   "source": [
    "# 3. Make a list of each Boolean operator's truth tables (i.e. every possible combination of Boolean values for the operator and what it evaluate )."
   ]
  },
  {
   "cell_type": "markdown",
   "id": "18b5f9c5",
   "metadata": {},
   "source": [
    "1)AND Operator:\n",
    "\n",
    "True AND True = True\n",
    "True AND False = False\n",
    "False AND True = False\n",
    "False AND False = False\n",
    "\n",
    "2)OR Operator:\n",
    "\n",
    "True OR True = True\n",
    "True OR False = True\n",
    "False OR True = True\n",
    "False OR False = False\n",
    "NOT Operator:\n",
    "\n",
    "3)NOT True = False\n",
    "NOT False = True\n",
    "XOR (Exclusive OR) Operator:\n",
    "\n",
    "4)True XOR True = False\n",
    "True XOR False = True\n",
    "False XOR True = True\n",
    "False XOR False = False\n",
    "NAND (NOT AND) Operator:\n",
    "\n",
    "5)NOT (True AND True) = False\n",
    "NOT (True AND False) = True\n",
    "NOT (False AND True) = True\n",
    "NOT (False AND False) = True"
   ]
  },
  {
   "cell_type": "markdown",
   "id": "27283bcd",
   "metadata": {},
   "source": [
    "# 4. What are the values of the following expressions?\n",
    "1) (5 > 4) and (3 == 5) = True and False = False\n",
    "\n",
    "2) not (5 > 4)= False\n",
    "\n",
    "3) (5 > 4) or (3 == 5) = True\n",
    "\n",
    "4) (True and True) and (True == False) = False\n",
    "5) (not False) or (not True)= True\n"
   ]
  },
  {
   "cell_type": "code",
   "execution_count": 3,
   "id": "edf8ffc2",
   "metadata": {},
   "outputs": [
    {
     "data": {
      "text/plain": [
       "True"
      ]
     },
     "execution_count": 3,
     "metadata": {},
     "output_type": "execute_result"
    }
   ],
   "source": [
    "(5 > 4) or (3 == 5)"
   ]
  },
  {
   "cell_type": "code",
   "execution_count": 8,
   "id": "ea83e0aa",
   "metadata": {},
   "outputs": [
    {
     "data": {
      "text/plain": [
       "False"
      ]
     },
     "execution_count": 8,
     "metadata": {},
     "output_type": "execute_result"
    }
   ],
   "source": [
    "not (5 > 4)"
   ]
  },
  {
   "cell_type": "code",
   "execution_count": 4,
   "id": "e058cb81",
   "metadata": {},
   "outputs": [
    {
     "data": {
      "text/plain": [
       "True"
      ]
     },
     "execution_count": 4,
     "metadata": {},
     "output_type": "execute_result"
    }
   ],
   "source": [
    "(5 > 4) or (3 == 5)"
   ]
  },
  {
   "cell_type": "code",
   "execution_count": 6,
   "id": "4bfafa52",
   "metadata": {},
   "outputs": [
    {
     "data": {
      "text/plain": [
       "False"
      ]
     },
     "execution_count": 6,
     "metadata": {},
     "output_type": "execute_result"
    }
   ],
   "source": [
    "(True and True) and (True == False)"
   ]
  },
  {
   "cell_type": "code",
   "execution_count": 7,
   "id": "d12dbd20",
   "metadata": {},
   "outputs": [
    {
     "data": {
      "text/plain": [
       "True"
      ]
     },
     "execution_count": 7,
     "metadata": {},
     "output_type": "execute_result"
    }
   ],
   "source": [
    " (not False) or (not True)"
   ]
  },
  {
   "cell_type": "markdown",
   "id": "89d8456f",
   "metadata": {},
   "source": [
    "# 5. What are the six comparison operators?"
   ]
  },
  {
   "cell_type": "markdown",
   "id": "74984317",
   "metadata": {},
   "source": [
    "Six comparision operators are given below =\n",
    "\n",
    "1) <\n",
    "2) >\n",
    "3) <=\n",
    "4) ==\n",
    "5) =!\n",
    "6) >= "
   ]
  },
  {
   "cell_type": "markdown",
   "id": "6f548e5d",
   "metadata": {},
   "source": [
    "# 6. How do you tell the difference between the equal to and assignment operators?Describe a condition and when you would use one."
   ]
  },
  {
   "cell_type": "markdown",
   "id": "1284357d",
   "metadata": {},
   "source": [
    "Equal to is written as ==\n",
    "where assignment operator as =\n",
    "\n",
    "== is used to check for the condition where = tells assigned value as used below\n"
   ]
  },
  {
   "cell_type": "code",
   "execution_count": 9,
   "id": "1ab019df",
   "metadata": {},
   "outputs": [],
   "source": [
    "a =10 # this is = assignment which is telling that value of a is 10"
   ]
  },
  {
   "cell_type": "code",
   "execution_count": 10,
   "id": "c30d40bc",
   "metadata": {},
   "outputs": [
    {
     "name": "stdout",
     "output_type": "stream",
     "text": [
      "this is equal to assignment \n"
     ]
    }
   ],
   "source": [
    "a=10\n",
    "b=10\n",
    "if a ==10 and b ==10 :\n",
    "    print(\"this is equal to assignment \")\n",
    "else:\n",
    "    print(\"not equal to \")"
   ]
  },
  {
   "cell_type": "markdown",
   "id": "b12f3caa",
   "metadata": {},
   "source": [
    "# 7. Identify the three blocks in this code:\n",
    "spam = 0\n",
    "if spam == 10:\n",
    "print('eggs')\n",
    "if spam > 5:\n",
    "print('bacon')\n",
    "else:\n",
    "print('ham')\n",
    "print('spam')\n",
    "print('spam')"
   ]
  },
  {
   "cell_type": "markdown",
   "id": "f690aaec",
   "metadata": {},
   "source": [
    "There are 3 blocks in above code \n",
    "       1) if\n",
    " again 2)if\n",
    " then 3)else"
   ]
  },
  {
   "cell_type": "code",
   "execution_count": 12,
   "id": "5892ad84",
   "metadata": {},
   "outputs": [
    {
     "name": "stdout",
     "output_type": "stream",
     "text": [
      "ham\n",
      "spam\n",
      "spam\n"
     ]
    }
   ],
   "source": [
    "spam = 0\n",
    "if spam == 10:\n",
    "     print('eggs')\n",
    "if spam > 5:\n",
    "    print('bacon')\n",
    "else:\n",
    "    print('ham')\n",
    "    print('spam')\n",
    "    print('spam')"
   ]
  },
  {
   "cell_type": "markdown",
   "id": "259f043a",
   "metadata": {},
   "source": [
    "# 8. Write code that prints Hello if 1 is stored in spam, prints Howdy if 2 is stored in spam, and prints Greetings! if anything else is stored in spam.\n"
   ]
  },
  {
   "cell_type": "code",
   "execution_count": 14,
   "id": "dce4bd15",
   "metadata": {},
   "outputs": [
    {
     "name": "stdout",
     "output_type": "stream",
     "text": [
      "greetings\n"
     ]
    }
   ],
   "source": [
    "#if spam = 1 it will print hello and if spam = 2 howdy\n",
    "spam = 3\n",
    "if spam==1:\n",
    "    print(\"hello\")\n",
    "elif spam ==2:\n",
    "    print(\"howdy\")\n",
    "else:\n",
    "    print(\"greetings\")"
   ]
  },
  {
   "cell_type": "markdown",
   "id": "f4525cbf",
   "metadata": {},
   "source": [
    "# 9.If your programme is stuck in an endless loop, what keys you’ll press?"
   ]
  },
  {
   "cell_type": "markdown",
   "id": "812eaaf3",
   "metadata": {},
   "source": [
    "ctrl+ c"
   ]
  },
  {
   "cell_type": "markdown",
   "id": "66e32a99",
   "metadata": {},
   "source": [
    "# 10. How can you tell the difference between break and continue?"
   ]
  },
  {
   "cell_type": "markdown",
   "id": "d7d1155b",
   "metadata": {},
   "source": [
    "#Break = when condition becomes false it will comes out of loop \n",
    "Continue = it means continue iterating till the condition is true"
   ]
  },
  {
   "cell_type": "code",
   "execution_count": 22,
   "id": "456ff9a1",
   "metadata": {},
   "outputs": [
    {
     "name": "stdout",
     "output_type": "stream",
     "text": [
      "2\n",
      "3\n"
     ]
    }
   ],
   "source": [
    "for i in range(2,6):\n",
    "    if i == 4:\n",
    "        break\n",
    "    print(i)"
   ]
  },
  {
   "cell_type": "code",
   "execution_count": 21,
   "id": "105183f7",
   "metadata": {},
   "outputs": [
    {
     "name": "stdout",
     "output_type": "stream",
     "text": [
      "2\n",
      "3\n",
      "5\n"
     ]
    }
   ],
   "source": [
    "for i in range(2,6):\n",
    "    if i == 4:\n",
    "        continue\n",
    "    print(i)"
   ]
  },
  {
   "cell_type": "markdown",
   "id": "323bf82e",
   "metadata": {},
   "source": [
    "# 11. In a for loop, what is the difference between range(10), range(0, 10), and range(0, 10, 1)?"
   ]
  },
  {
   "cell_type": "markdown",
   "id": "6d111afb",
   "metadata": {},
   "source": [
    "the 3 condition are equivalent . \n",
    "range(10) = it will give data starting from 0 by default and till 9 excluding 10 .\n",
    "range(0,10) = here we have defined lower bound and goes upto 9 excluding 10\n",
    "range(1,10,1) = in this case lower bound and upper bound is defined with step size or jump of 1 so it will extract data from 0 till 9 with jump of 1.\n",
    "\n",
    "* code execution is shown below"
   ]
  },
  {
   "cell_type": "code",
   "execution_count": 24,
   "id": "9d2f078b",
   "metadata": {},
   "outputs": [
    {
     "name": "stdout",
     "output_type": "stream",
     "text": [
      "0\n",
      "1\n",
      "2\n",
      "3\n",
      "4\n",
      "5\n",
      "6\n",
      "7\n",
      "8\n",
      "9\n"
     ]
    }
   ],
   "source": [
    "for i in range(10):\n",
    "    print(i)"
   ]
  },
  {
   "cell_type": "code",
   "execution_count": 25,
   "id": "c3197c34",
   "metadata": {},
   "outputs": [
    {
     "name": "stdout",
     "output_type": "stream",
     "text": [
      "0\n",
      "1\n",
      "2\n",
      "3\n",
      "4\n",
      "5\n",
      "6\n",
      "7\n",
      "8\n",
      "9\n"
     ]
    }
   ],
   "source": [
    "for i in range(0,10):\n",
    "    print(i)"
   ]
  },
  {
   "cell_type": "code",
   "execution_count": 28,
   "id": "a747a058",
   "metadata": {},
   "outputs": [
    {
     "name": "stdout",
     "output_type": "stream",
     "text": [
      "0\n",
      "1\n",
      "2\n",
      "3\n",
      "4\n",
      "5\n",
      "6\n",
      "7\n",
      "8\n",
      "9\n"
     ]
    }
   ],
   "source": [
    "for i in range(0,10,1):\n",
    "    print(i)\n",
    "    "
   ]
  },
  {
   "cell_type": "markdown",
   "id": "e14ecfdd",
   "metadata": {},
   "source": [
    "# 12. Write a short program that prints the numbers 1 to 10 \n",
    "using a for loop. Then write an equivalent program that prints the numbers 1 to 10 using a while loop. "
   ]
  },
  {
   "cell_type": "code",
   "execution_count": 29,
   "id": "d7d3966e",
   "metadata": {},
   "outputs": [
    {
     "name": "stdout",
     "output_type": "stream",
     "text": [
      "1\n",
      "2\n",
      "3\n",
      "4\n",
      "5\n",
      "6\n",
      "7\n",
      "8\n",
      "9\n",
      "10\n"
     ]
    }
   ],
   "source": [
    "for i in range(1,11):\n",
    "    print(i)"
   ]
  },
  {
   "cell_type": "code",
   "execution_count": 1,
   "id": "ac47164d",
   "metadata": {},
   "outputs": [
    {
     "name": "stdout",
     "output_type": "stream",
     "text": [
      "1\n",
      "2\n",
      "3\n",
      "4\n",
      "5\n",
      "6\n",
      "7\n",
      "8\n",
      "9\n",
      "10\n"
     ]
    }
   ],
   "source": [
    "i = 1\n",
    "while i<=10:\n",
    "    print(i)\n",
    "    i = i+1"
   ]
  },
  {
   "cell_type": "markdown",
   "id": "cfc2f75c",
   "metadata": {},
   "source": [
    "# 13. If you had a function named bacon() inside a module named spam, how would you call it after importing spam?"
   ]
  },
  {
   "cell_type": "markdown",
   "id": "e339e988",
   "metadata": {},
   "source": [
    "it can be called  after importing spam as\n",
    "spam.bacon()"
   ]
  }
 ],
 "metadata": {
  "kernelspec": {
   "display_name": "Python 3 (ipykernel)",
   "language": "python",
   "name": "python3"
  },
  "language_info": {
   "codemirror_mode": {
    "name": "ipython",
    "version": 3
   },
   "file_extension": ".py",
   "mimetype": "text/x-python",
   "name": "python",
   "nbconvert_exporter": "python",
   "pygments_lexer": "ipython3",
   "version": "3.10.9"
  }
 },
 "nbformat": 4,
 "nbformat_minor": 5
}
